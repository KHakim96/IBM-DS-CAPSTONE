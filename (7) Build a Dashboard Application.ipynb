{
 "cells": [
  {
   "cell_type": "markdown",
   "id": "23162904",
   "metadata": {},
   "source": [
    "### Hi,\n",
    "Since using dash require connecting to a server,adjusting the input continously will sometime corrupt the process.  \n",
    "Thus,i prefer creating dashboard directly in Jupyter Notebook "
   ]
  },
  {
   "cell_type": "markdown",
   "id": "4e5b1191",
   "metadata": {},
   "source": [
    "##### Explanation\n",
    "\n",
    "###### **1**-Import all the required libs  \n",
    "###### **2**-Load the data  \n",
    "  Here is an explanation of each line of code:\n",
    "\n",
    "**spacex_df = pd.read_csv(\"spacex_launch_dash.csv\"):**  \n",
    "This line reads the CSV file \"spacex_launch_dash.csv\" and loads it into a pandas DataFrame named spacex_df.\n",
    "\n",
    "**max_payload = spacex_df['Payload Mass (kg)'].max():**  \n",
    "This line finds the maximum value of the 'Payload Mass (kg)' column in spacex_df and assigns it to the max_payload variable.\n",
    "\n",
    "**min_payload = spacex_df['Payload Mass (kg)'].min():**  \n",
    "This line finds the minimum value of the 'Payload Mass (kg)' column in spacex_df and assigns it to the min_payload variable.\n",
    "\n",
    "**sites = spacex_df['Launch Site'].unique().tolist():**  \n",
    "This line creates a list of unique launch sites in the 'Launch Site' column of spacex_df and assigns it to the sites variable.\n",
    "\n",
    "**sites.insert(0, 'All Sites'):**  \n",
    "This line inserts the string 'All Sites' at the beginning of the sites list using the insert() method. This is done to add an option to select all launch sites in the dashboard.\n"
   ]
  },
  {
   "cell_type": "markdown",
   "id": "d30ff59a",
   "metadata": {},
   "source": [
    "###### **3**-Define the widgets  \n",
    "  Here is an explanation of each line of code:  \n",
    "\n",
    "**site_dropdown**  \n",
    "A dropdown widget with options set to sites, a default value of 'All Sites', and a description of 'Launch Site'. The style parameter is used to set the width of the description to 'initial'.  \n",
    "\n",
    "**payload_slider**  \n",
    "An IntRangeSlider widget with minimum and maximum values set to min_payload and max_payload, step size of 100, default values of [min_payload, max_payload], a description of 'Payload Range (kg)', and width of the description set to 'initial'.  \n",
    "\n",
    "**pie_chart**  \n",
    "A pie chart visualization created using the px.pie() function from the Plotly Express library. The data used for the pie chart is spacex_df, with values set to the 'class' column and names set to the 'Launch Site' column. The title of the pie chart is 'Total Success Launches by Site'.  \n",
    "\n",
    "**scatter_plot**  \n",
    "A scatter plot visualization created using the px.scatter() function from the Plotly Express library. The x-axis data is set to 'Payload Mass (kg)', the y-axis data is set to 'class', and the color of the points is set based on 'Booster Version Category'. The title of the scatter plot is 'Correlation between Payload and Success for different Booster Versions', and the width of the scatter plot is set to 960."
   ]
  },
  {
   "cell_type": "markdown",
   "id": "fbb9d63e",
   "metadata": {},
   "source": [
    "###### **4**-Define the callback functions  \n",
    "  Here is an explanation of each line of code:  \n",
    "        \n",
    "**update_pie_chart(site)**  \n",
    "Takes a site parameter and filters the spacex_df dataframe by the selected site.  \n",
    "Then it counts the number of successful and unsuccessful launches for the filtered  \n",
    "data and creates a new pie chart using px.pie() with the count data. Finally, it returns the new figure.  \n",
    "\n",
    "**update_scatter_plot(payload)**  \n",
    "Takes a payload parameter which is a tuple of minimum and maximum payload values selected  \n",
    "using the Payload Range slider. It filters the spacex_df dataframe by the selected payload range and  \n",
    "creates a new scatter plot using px.scatter() with filtered data.The title of the scatter plot is updated  \n",
    "to include the selected payload range. Finally, it returns the new figure.  \n",
    "\n",
    "**site_dropdown_event_handler(change)**  \n",
    "The event handler for the Launch Site dropdown widget.  \n",
    "It calls the update_pie_chart(site) function with the newly selected value and displays the new pie chart  \n",
    "using clear_output() and display() functions.  \n",
    "\n",
    "**payload_slider_event_handler(change)**  \n",
    "The event handler for the Payload Range slider widget.  \n",
    "It calls the update_scatter_plot(payload) function with the newly selected value and displays the new scatter plot  \n",
    "using clear_output() and display() functions.\n"
   ]
  },
  {
   "cell_type": "markdown",
   "id": "c10e8cee",
   "metadata": {},
   "source": [
    "###### **5**-Bind the widgets with the event handlers  \n",
    "  Here is an explanation of each line of code:  \n",
    "        \n",
    "**site_dropdown_event_handler**  \n",
    "Is called whenever the value of the site_dropdown widget changes  \n",
    "\n",
    "**payload_slider_event_handler**  \n",
    "Is called whenever the value of the payload_slider widget changes.  \n",
    "\n",
    "**observe()**  \n",
    "Used to set up these event listeners  \n",
    "\n",
    "**names**  \n",
    "A parameter specifying which property of the widget to observe for changes (in this case, the 'value' property)."
   ]
  },
  {
   "cell_type": "markdown",
   "id": "f08648df",
   "metadata": {},
   "source": [
    "###### **6**-Display the widgets and initial figures  "
   ]
  },
  {
   "cell_type": "markdown",
   "id": "44ebec49",
   "metadata": {},
   "source": [
    "Ok let's go  \n",
    "\n",
    "###### **Since GitHub cannot render plotly,run in your local machine / google collab / kaggle"
   ]
  },
  {
   "cell_type": "code",
   "execution_count": 14,
   "id": "2c339124",
   "metadata": {},
   "outputs": [
    {
     "data": {
      "application/vnd.jupyter.widget-view+json": {
       "model_id": "981dcba35baf4e349796016dfcac01d5",
       "version_major": 2,
       "version_minor": 0
      },
      "text/plain": [
       "HBox(children=(Dropdown(description='Launch Site:', options=('All Sites', 'CCAFS LC-40', 'VAFB SLC-4E', 'KSC L…"
      ]
     },
     "metadata": {},
     "output_type": "display_data"
    },
    {
     "data": {
      "application/vnd.jupyter.widget-view+json": {
       "model_id": "8105634bfc5542878637297725471f32",
       "version_major": 2,
       "version_minor": 0
      },
      "text/plain": [
       "Output()"
      ]
     },
     "metadata": {},
     "output_type": "display_data"
    },
    {
     "data": {
      "application/vnd.jupyter.widget-view+json": {
       "model_id": "dd2cba8358f7449987ee5cf1e26a6224",
       "version_major": 2,
       "version_minor": 0
      },
      "text/plain": [
       "Output()"
      ]
     },
     "metadata": {},
     "output_type": "display_data"
    }
   ],
   "source": [
    "import pandas as pd\n",
    "import ipywidgets as widgets\n",
    "import plotly.express as px\n",
    "from IPython.display import display, clear_output\n",
    "\n",
    "# Load the data\n",
    "\n",
    "spacex_df = pd.read_csv(\"spacex_launch_dash.csv\")\n",
    "max_payload = spacex_df['Payload Mass (kg)'].max()\n",
    "min_payload = spacex_df['Payload Mass (kg)'].min()\n",
    "sites = spacex_df['Launch Site'].unique().tolist()\n",
    "sites.insert(0, 'All Sites')\n",
    "\n",
    "#**********************************************************************************************************************\n",
    "# Define the widgets\n",
    "\n",
    "site_dropdown = widgets.Dropdown(options=sites, value='All Sites', \n",
    "                                 description='Launch Site:', \n",
    "                                 style={'description_width': 'initial'})\n",
    "\n",
    "payload_slider = widgets.IntRangeSlider(min=min_payload, \n",
    "                                        max=max_payload, \n",
    "                                        step=100, \n",
    "                                        value=[min_payload, max_payload], \n",
    "                                        description='Payload Range (kg):', \n",
    "                                        style={'description_width': 'initial'})\n",
    "\n",
    "pie_chart = px.pie(spacex_df, \n",
    "                   values='class', \n",
    "                   names='Launch Site', \n",
    "                   title='Total Success Launches by Site')\n",
    "\n",
    "scatter_plot = px.scatter(spacex_df, \n",
    "                          x='Payload Mass (kg)', \n",
    "                          y='class', \n",
    "                          color='Booster Version Category', \n",
    "                          title='Correlation between Payload and Success for different Booster Versions',\n",
    "                          width=960)\n",
    "\n",
    "\n",
    "#**********************************************************************************************************************\n",
    "\n",
    "# Define the callback functions\n",
    "\n",
    "def update_pie_chart(site):\n",
    "    filtered_df = spacex_df.copy()\n",
    "    if site != 'All Sites':\n",
    "        filtered_df = filtered_df[filtered_df['Launch Site'] == site]\n",
    "    data = filtered_df['class'].value_counts()\n",
    "    fig = px.pie(values=data.values, names=data.index, title=f\"Total Success Launches for {site}\")\n",
    "    return fig\n",
    "\n",
    "def update_scatter_plot(payload):\n",
    "    filtered_df = spacex_df.copy()\n",
    "    filtered_df = filtered_df[(filtered_df['Payload Mass (kg)'] >= payload[0]) & (filtered_df['Payload Mass (kg)'] <= payload[1])]\n",
    "    fig = px.scatter(filtered_df, x='Payload Mass (kg)', y='class', color='Booster Version Category', title=f\"Correlation between Payload and Success for different Booster Versions (Payload Range: {payload[0]}-{payload[1]} kg)\")\n",
    "    return fig\n",
    "\n",
    "# Define the event handlers\n",
    "def site_dropdown_event_handler(change):\n",
    "    fig = update_pie_chart(change.new)\n",
    "    with output_pie_chart:\n",
    "        clear_output(wait=True)\n",
    "        display(fig)\n",
    "\n",
    "def payload_slider_event_handler(change):\n",
    "    fig = update_scatter_plot(change.new)\n",
    "    with output_scatter_plot:\n",
    "        clear_output(wait=True)\n",
    "        display(fig)\n",
    "\n",
    "#**********************************************************************************************************************\n",
    "\n",
    "# Bind the widgets with the event handlers\n",
    "\n",
    "site_dropdown.observe(site_dropdown_event_handler, names='value')\n",
    "payload_slider.observe(payload_slider_event_handler, names='value')\n",
    "\n",
    "#**********************************************************************************************************************\n",
    "\n",
    "# Display the widgets and initial figures\n",
    "\n",
    "display(widgets.HBox([site_dropdown, payload_slider]))\n",
    "output_pie_chart = widgets.Output()\n",
    "output_scatter_plot = widgets.Output()\n",
    "display(output_pie_chart)\n",
    "display(output_scatter_plot)\n",
    "with output_pie_chart:\n",
    "    display(pie_chart)\n",
    "with output_scatter_plot:\n",
    "    display(scatter_plot)\n",
    "    \n",
    "#**********************************************************************************************************************"
   ]
  },
  {
   "cell_type": "code",
   "execution_count": null,
   "id": "f06fa82e",
   "metadata": {},
   "outputs": [],
   "source": []
  }
 ],
 "metadata": {
  "kernelspec": {
   "display_name": "Python 3 (ipykernel)",
   "language": "python",
   "name": "python3"
  },
  "language_info": {
   "codemirror_mode": {
    "name": "ipython",
    "version": 3
   },
   "file_extension": ".py",
   "mimetype": "text/x-python",
   "name": "python",
   "nbconvert_exporter": "python",
   "pygments_lexer": "ipython3",
   "version": "3.11.2"
  }
 },
 "nbformat": 4,
 "nbformat_minor": 5
}
